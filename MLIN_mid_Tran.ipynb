{
 "cells": [
  {
   "cell_type": "code",
   "execution_count": 1,
   "id": "2796fc36",
   "metadata": {},
   "outputs": [
    {
     "name": "stdout",
     "output_type": "stream",
     "text": [
      "(1701, 7)\n",
      "(51030, 7)\n",
      "(40824, 2) (10206, 2) (40824, 5) (10206, 5)\n"
     ]
    }
   ],
   "source": [
    "import pandas as pd\n",
    "import numpy as np\n",
    "from xgboost import XGBRegressor\n",
    "from sklearn.model_selection import train_test_split, GridSearchCV\n",
    "from sklearn.metrics import r2_score, mean_squared_error\n",
    "from sklearn.multioutput import MultiOutputRegressor\n",
    "\n",
    "data = pd.read_csv('Training_data/MLIN_1_2_mid.csv')\n",
    "data_int=data.iloc[:,:]\n",
    "print(data_int.shape)\n",
    "data_int_10=np.tile(data_int, (30, 1)) #串聯10倍長度\n",
    "mean,var = 0,0.001\n",
    "noise = np.random.normal(mean, var, data_int_10.shape[0]) #並加入noise\n",
    "noise = np.random.normal(mean, var, data_int_10.shape) #並加入noise\n",
    "print(noise.shape)\n",
    "\n",
    "data_noise_10 = data_int_10+noise*0.00001 #嘗試在不同大小的noise\n",
    "\n",
    "X = data_noise_10[:, :2]\n",
    "y = data_noise_10[:, 2:]\n",
    "X_train, X_test, y_train, y_test = train_test_split(X, y, test_size=0.2, shuffle=True, random_state=42)\n",
    "print(X_train.shape,X_test.shape,y_train.shape,y_test.shape)\n",
    "\n"
   ]
  },
  {
   "cell_type": "code",
   "execution_count": null,
   "id": "a8a75e86",
   "metadata": {},
   "outputs": [
    {
     "name": "stdout",
     "output_type": "stream",
     "text": [
      "Fitting 2 folds for each of 648 candidates, totalling 1296 fits\n"
     ]
    }
   ],
   "source": [
    "xgb = XGBRegressor(objective='reg:squarederror',\n",
    "                   seed=42)\n",
    "param_grid = {\n",
    "    'estimator__learning_rate': [0.01,0.05,0.1],\n",
    "    'estimator__n_estimators': [800,900,1000],\n",
    "    'estimator__max_depth': [7,8,9,10],\n",
    "       'estimator__min_child_weight': [5 , 7],\n",
    "       'estimator__gamma': [0.0,0.1,0.2],\n",
    "       'estimator__subsample': [0.8, 0.9 , 1]\n",
    "}\n",
    "# \n",
    "multi_output_model = MultiOutputRegressor(xgb)\n",
    "\n",
    "grid_search = GridSearchCV(estimator=multi_output_model,\n",
    "                           param_grid=param_grid,\n",
    "                           cv = 2,\n",
    "                           scoring='neg_mean_squared_error',\n",
    "                           verbose=1,\n",
    "                           n_jobs=-1\n",
    "                          )\n",
    "\n",
    "grid_search.fit(X_train, y_train)\n",
    "\n",
    "best_params = grid_search.best_params_\n",
    "print(f'Best parameters found: {best_params}')\n",
    "\n",
    "best_xgb_model = XGBRegressor(objective='reg:squarederror',\n",
    "                              learning_rate=best_params['estimator__learning_rate'],\n",
    "                              n_estimators=best_params['estimator__n_estimators'],\n",
    "                              max_depth=best_params['estimator__max_depth'],\n",
    "                               min_child_weight=best_params['estimator__min_child_weight'],\n",
    "                               gamma=best_params['estimator__gamma'],\n",
    "                               subsample=best_params['estimator__subsample'],\n",
    "                              colsample_bytree=0.8,\n",
    "                              reg_alpha=0,\n",
    "                              reg_lambda=1,\n",
    "                              seed=42)\n",
    "best_multi_output_model = MultiOutputRegressor(best_xgb_model)\n",
    "\n",
    "best_multi_output_model.fit(X_train, y_train)\n",
    "\n",
    "y_pred = best_multi_output_model.predict(X_test)\n",
    "# \n",
    "r2_scores = r2_score(y_test, y_pred, multioutput='raw_values')\n",
    "print(f'R² scores for each output: {r2_scores}')"
   ]
  },
  {
   "cell_type": "code",
   "execution_count": null,
   "id": "723dcd30",
   "metadata": {},
   "outputs": [],
   "source": [
    "RMSE=np.sqrt(sum((y_test-y_pred) ** 2)/(y_pred.size))\n",
    "print('RMSE [S11,S21,beta,alpha,Zo] : ')#,S11(angle),S21(angle)\n",
    "print(RMSE)\n",
    "NRMSE=RMSE/abs(np.mean(y_pred, axis=0))\n",
    "print('NRMSE [S11,S21,beta,alpha,Zo] :')# ,S11(angle),S21(angle)\n",
    "print(NRMSE)"
   ]
  }
 ],
 "metadata": {
  "kernelspec": {
   "display_name": "Python 3",
   "language": "python",
   "name": "python3"
  },
  "language_info": {
   "codemirror_mode": {
    "name": "ipython",
    "version": 3
   },
   "file_extension": ".py",
   "mimetype": "text/x-python",
   "name": "python",
   "nbconvert_exporter": "python",
   "pygments_lexer": "ipython3",
   "version": "3.6.13"
  }
 },
 "nbformat": 4,
 "nbformat_minor": 5
}
