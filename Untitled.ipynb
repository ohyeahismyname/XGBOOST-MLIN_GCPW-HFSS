{
 "cells": [
  {
   "cell_type": "code",
   "execution_count": 1,
   "id": "87cc1e16",
   "metadata": {},
   "outputs": [
    {
     "name": "stdout",
     "output_type": "stream",
     "text": [
      "(1701, 7)\n",
      "(51030, 7)\n",
      "(40824, 2) (10206, 2) (40824, 5) (10206, 5)\n"
     ]
    }
   ],
   "source": [
    "import pandas as pd\n",
    "import numpy as np\n",
    "from xgboost import XGBRegressor\n",
    "from sklearn.model_selection import train_test_split, GridSearchCV\n",
    "from sklearn.metrics import r2_score, mean_squared_error\n",
    "from sklearn.multioutput import MultiOutputRegressor\n",
    "\n",
    "layer1=2\n",
    "layer2=8\n",
    "data = pd.read_csv(f'Training_data/MLIN_1_2_mid.csv')\n",
    "data_int=data.iloc[:,:]\n",
    "print(data_int.shape)\n",
    "data_int_10=np.tile(data_int, (30, 1)) #串聯10倍長度\n",
    "mean,var = 0,0.001\n",
    "noise = np.random.normal(mean, var, data_int_10.shape[0]) #並加入noise\n",
    "noise = np.random.normal(mean, var, data_int_10.shape) #並加入noise\n",
    "print(noise.shape)\n",
    "\n",
    "data_noise_10 = data_int_10+noise*0.00001 #嘗試在不同大小的noise\n",
    "\n",
    "X = data_noise_10[:, :2]\n",
    "y = data_noise_10[:, 2:]\n",
    "X_train, X_test, y_train, y_test = train_test_split(X, y, test_size=0.2, shuffle=True, random_state=42)\n",
    "print(X_train.shape,X_test.shape,y_train.shape,y_test.shape)\n",
    "\n"
   ]
  },
  {
   "cell_type": "code",
   "execution_count": null,
   "id": "00d5290f",
   "metadata": {},
   "outputs": [
    {
     "name": "stdout",
     "output_type": "stream",
     "text": [
      "Fitting 2 folds for each of 216 candidates, totalling 432 fits\n"
     ]
    }
   ],
   "source": [
    "xgb = XGBRegressor(objective='reg:squarederror',\n",
    "                   seed=42)\n",
    "param_grid = {\n",
    "    'estimator__learning_rate': [0.01,0.05,0.1],\n",
    "    'estimator__n_estimators': [800,900,1000],\n",
    "    'estimator__max_depth': [7,8,9,10],\n",
    "       'estimator__min_child_weight': [5 , 7],\n",
    "       'estimator__subsample': [0.8, 0.9 , 1]\n",
    "}\n",
    "# \n",
    "multi_output_model = MultiOutputRegressor(xgb)\n",
    "\n",
    "grid_search = GridSearchCV(estimator=multi_output_model,\n",
    "                           param_grid=param_grid,\n",
    "                           cv = 2,\n",
    "                           scoring='neg_mean_squared_error',\n",
    "                           verbose=1,\n",
    "                           n_jobs=-1\n",
    "                          )\n",
    "\n",
    "grid_search.fit(X_train, y_train)\n",
    "\n",
    "best_params = grid_search.best_params_\n",
    "print(f'Best parameters found: {best_params}')\n",
    "\n",
    "best_xgb_model = XGBRegressor(objective='reg:squarederror',\n",
    "                              learning_rate=best_params['estimator__learning_rate'],\n",
    "                              n_estimators=best_params['estimator__n_estimators'],\n",
    "                              max_depth=best_params['estimator__max_depth'],\n",
    "                               min_child_weight=best_params['estimator__min_child_weight'],\n",
    "                               subsample=best_params['estimator__subsample'],\n",
    "                              colsample_bytree=0.8,\n",
    "                              reg_alpha=0,\n",
    "                              reg_lambda=1,\n",
    "                              seed=42)\n",
    "best_multi_output_model = MultiOutputRegressor(best_xgb_model)\n",
    "\n",
    "best_multi_output_model.fit(X_train, y_train)\n",
    "\n",
    "y_pred = best_multi_output_model.predict(X_test)\n",
    "# \n",
    "r2_scores = r2_score(y_test, y_pred, multioutput='raw_values')\n",
    "print(f'R² scores for each output: {r2_scores}')"
   ]
  },
  {
   "cell_type": "code",
   "execution_count": null,
   "id": "db8c0b60",
   "metadata": {},
   "outputs": [],
   "source": [
    "# # 將參數轉換成 DataFrame\n",
    "# params_df = pd.DataFrame([best_params])\n",
    "\n",
    "# # 保存為 CSV 檔案\n",
    "# params_df.to_csv('best_hyperparameters.csv', index=False)"
   ]
  },
  {
   "cell_type": "code",
   "execution_count": null,
   "id": "3e2f30f9",
   "metadata": {},
   "outputs": [],
   "source": [
    "RMSE=np.sqrt(sum((y_test-y_pred) ** 2)/(y_pred.size))\n",
    "print('RMSE [S11,S21,beta,alpha,Zo] : ')\n",
    "print(RMSE)\n",
    "NRMSE=RMSE/abs(np.mean(y_pred, axis=0))\n",
    "print('NRMSE [S11,S21,beta,alpha,Zo] :')\n",
    "print(NRMSE)"
   ]
  },
  {
   "cell_type": "code",
   "execution_count": null,
   "id": "6f7d8f67",
   "metadata": {},
   "outputs": [],
   "source": [
    "import joblib\n",
    "\n",
    "# 將模型保存為 .joblib 檔案\n",
    "joblib.dump(best_multi_output_model, f'model_MLIN_{layer1}_{layer2}_mid.joblib')\n"
   ]
  },
  {
   "cell_type": "code",
   "execution_count": null,
   "id": "60cad118",
   "metadata": {},
   "outputs": [],
   "source": [
    "loaded_multi_output_model = joblib.load(f'model_MLIN_{layer1}_{layer2}_mid.joblib')\n",
    "input1 = np.full(401, 0.888888888888)  # 401個0.1\n",
    "# input2 = np.full(401, 0.3)  # 401個0.3\n",
    "# input3 = np.full(401, 0.66)  # 401個0.66\n",
    "input4 = np.arange(37, 41.01, 0.01)  # 從37到41，間隔0.01\n",
    "\n",
    "# 構建輸入矩陣 (4 x 401)\n",
    "input_data = np.array([input1, input4]).T\n",
    "\n",
    "# 載入已保存的模型\n",
    "loaded_multi_output_model = joblib.load('best_multi_output_model.joblib')\n",
    "\n",
    "# 進行預測\n",
    "predicted_output = loaded_multi_output_model.predict(input_data)"
   ]
  },
  {
   "cell_type": "code",
   "execution_count": null,
   "id": "515312c7",
   "metadata": {},
   "outputs": [],
   "source": [
    "import matplotlib.pyplot as plt\n",
    "\n",
    "# 繪製四個輸出圖表，橫軸為 input4\n",
    "output_labels = ['Output 1', 'Output 2', 'Output 3', 'Output 4']\n",
    "\n",
    "# 逐一繪製每個輸出\n",
    "for i in range(predicted_output.shape[1]):\n",
    "    plt.figure(figsize=(10, 6))\n",
    "    plt.plot(input4, predicted_output[:, i+1], label=output_labels[i])\n",
    "    plt.title(f'{output_labels[i]} Prediction vs Input4')\n",
    "    plt.xlabel('Input4')\n",
    "    plt.ylabel(f'{output_labels[i]} Value')\n",
    "    plt.legend()\n",
    "    plt.grid(True)\n",
    "    plt.show()\n"
   ]
  },
  {
   "cell_type": "code",
   "execution_count": null,
   "id": "bbbd6771",
   "metadata": {},
   "outputs": [],
   "source": [
    "print()"
   ]
  }
 ],
 "metadata": {
  "kernelspec": {
   "display_name": "Python 3",
   "language": "python",
   "name": "python3"
  },
  "language_info": {
   "codemirror_mode": {
    "name": "ipython",
    "version": 3
   },
   "file_extension": ".py",
   "mimetype": "text/x-python",
   "name": "python",
   "nbconvert_exporter": "python",
   "pygments_lexer": "ipython3",
   "version": "3.6.13"
  }
 },
 "nbformat": 4,
 "nbformat_minor": 5
}
